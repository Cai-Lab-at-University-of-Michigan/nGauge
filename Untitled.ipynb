{
 "cells": [
  {
   "cell_type": "code",
   "execution_count": 1,
   "id": "45a9e762-c87c-42ac-b781-5c57a96b28b3",
   "metadata": {},
   "outputs": [
    {
     "data": {
      "text/plain": [
       "'1.0.0'"
      ]
     },
     "execution_count": 1,
     "metadata": {},
     "output_type": "execute_result"
    }
   ],
   "source": [
    "import ngauge\n",
    "ngauge.__version__ "
   ]
  },
  {
   "cell_type": "code",
   "execution_count": 3,
   "id": "5cc14095-02b3-4164-ab65-bd5c3d076301",
   "metadata": {},
   "outputs": [],
   "source": [
    "n = ngauge.Neuron.from_swc('tutorials/basic_usage/ye_swc/20181003_3L_ExM_TRH-5FP_20x_tile1-4_Neuron-11_stdSWC.swc')"
   ]
  },
  {
   "cell_type": "code",
   "execution_count": 6,
   "id": "081bfc92-b06c-4eeb-9f9a-74bb40c3dcf2",
   "metadata": {},
   "outputs": [],
   "source": [
    "print( n.get_main_branch() )"
   ]
  },
  {
   "cell_type": "code",
   "execution_count": 8,
   "id": "a542561a-339f-4347-8868-9e2e0f327ece",
   "metadata": {},
   "outputs": [
    {
     "ename": "AttributeError",
     "evalue": "'list' object has no attribute 'get_branch_order'",
     "output_type": "error",
     "traceback": [
      "\u001b[0;31m---------------------------------------------------------------------------\u001b[0m",
      "\u001b[0;31mAttributeError\u001b[0m                            Traceback (most recent call last)",
      "\u001b[0;32m<ipython-input-8-2f03f9831748>\u001b[0m in \u001b[0;36m<module>\u001b[0;34m\u001b[0m\n\u001b[0;32m----> 1\u001b[0;31m \u001b[0mn\u001b[0m\u001b[0;34m.\u001b[0m\u001b[0mbranches\u001b[0m\u001b[0;34m.\u001b[0m\u001b[0mget_branch_order\u001b[0m\u001b[0;34m(\u001b[0m\u001b[0;34m)\u001b[0m\u001b[0;34m\u001b[0m\u001b[0;34m\u001b[0m\u001b[0m\n\u001b[0m",
      "\u001b[0;31mAttributeError\u001b[0m: 'list' object has no attribute 'get_branch_order'"
     ]
    }
   ],
   "source": [
    "n.branches[0].total_tip_nodes()"
   ]
  },
  {
   "cell_type": "code",
   "execution_count": null,
   "id": "228f862e-b9e8-412b-aceb-dc86efd1e60a",
   "metadata": {},
   "outputs": [],
   "source": []
  }
 ],
 "metadata": {
  "kernelspec": {
   "display_name": "Python 3.8.8 64-bit ('base': conda)",
   "language": "python",
   "name": "python388jvsc74a57bd0760937fe51b442cde0ebf52028cd9164cb9f4a3570b9e184b4a794c171277159"
  },
  "language_info": {
   "codemirror_mode": {
    "name": "ipython",
    "version": 3
   },
   "file_extension": ".py",
   "mimetype": "text/x-python",
   "name": "python",
   "nbconvert_exporter": "python",
   "pygments_lexer": "ipython3",
   "version": "3.8.8"
  }
 },
 "nbformat": 4,
 "nbformat_minor": 5
}
