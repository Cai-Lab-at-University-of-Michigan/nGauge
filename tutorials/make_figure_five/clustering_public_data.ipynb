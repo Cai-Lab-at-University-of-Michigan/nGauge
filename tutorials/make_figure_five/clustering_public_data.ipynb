{
 "cells": [
  {
   "cell_type": "code",
   "execution_count": 1,
   "metadata": {},
   "outputs": [],
   "source": [
    "#from ngauge import Neuron as n\n",
    "from glob import glob\n",
    "\n",
    "from sklearn.decomposition import PCA\n",
    "import matplotlib\n",
    "import matplotlib.pyplot as plt\n",
    "from mpl_toolkits.axes_grid1.inset_locator import inset_axes\n",
    "\n",
    "from scipy.cluster import hierarchy\n",
    "from scipy.cluster.hierarchy import dendrogram\n",
    "\n",
    "#import wrapper as w\n",
    "#import clustering as c\n"
   ]
  },
  {
   "cell_type": "code",
   "execution_count": 2,
   "metadata": {},
   "outputs": [],
   "source": [
    "from matplotlib import rc\n",
    "rc('font',**{'family':'sans-serif','sans-serif':['Arial']})\n",
    "#rc('font',**{'family':'sans-serif'})"
   ]
  },
  {
   "cell_type": "code",
   "execution_count": 3,
   "metadata": {},
   "outputs": [
    {
     "data": {
      "text/plain": [
       "'0.1.5'"
      ]
     },
     "execution_count": 3,
     "metadata": {},
     "output_type": "execute_result"
    }
   ],
   "source": [
    "# This block \n",
    " \n",
    "import sys\n",
    "sys.path = [ \"../../\" ] + sys.path\n",
    "\n",
    "import ngauge\n",
    "from ngauge import Neuron as n\n",
    "\n",
    "ngauge.__version__"
   ]
  },
  {
   "cell_type": "code",
   "execution_count": 4,
   "metadata": {},
   "outputs": [],
   "source": [
    "# Define a function to calculate a large number of statistics inline\n",
    "def fillStatsDict( a ):\n",
    "    return {\n",
    "        \"num_tips\":a.total_tip_nodes(),\n",
    "        \"cell_height\":a.total_height(),\n",
    "        \"cell_width\":a.total_width(),\n",
    "        \"total_branch_nodes\":a.total_branch_nodes(),\n",
    "        \"avg_thickness\":a.average_thickness(),\n",
    "        \"volume\":a.total_volume(),\n",
    "        \"max_branch_order\":a.max_branching_order(),\n",
    "        \"max_segment\":a.max_segment_length(),\n",
    "        \"max_path_angle\":a.max_path_angle(),\n",
    "        \"min_branch_angle\":a.min_branch_angle(),\n",
    "        \"avg_branch_angle\":a.avg_branch_angle(),\n",
    "        \"max_branch_angle\":a.max_branch_angle(),\n",
    "        \"max_tortuosity\": a.max_tortuosity()\n",
    "    }"
   ]
  },
  {
   "cell_type": "code",
   "execution_count": 5,
   "metadata": {},
   "outputs": [
    {
     "name": "stdout",
     "output_type": "stream",
     "text": [
      "public_data/OlfactoryBulb/MitralCells/IF04344.CNG.swc MitralCells 1\n",
      "public_data/OlfactoryBulb/MitralCells/IF04360.CNG.swc MitralCells 1\n",
      "public_data/OlfactoryBulb/MitralCells/IF04208.CNG.swc MitralCells 1\n",
      "public_data/OlfactoryBulb/MitralCells/IF04193.CNG.swc MitralCells 1\n",
      "public_data/OlfactoryBulb/MitralCells/IF04168.CNG.swc MitralCells 1\n",
      "public_data/OlfactoryBulb/MitralCells/IF04230.CNG.swc MitralCells 1\n",
      "public_data/OlfactoryBulb/MitralCells/IF04063.CNG.swc MitralCells 1\n",
      "public_data/OlfactoryBulb/TuftedCells/IF04191.CNG.swc TuftedCells 2\n",
      "public_data/OlfactoryBulb/TuftedCells/IF04174.CNG.swc TuftedCells 2\n",
      "public_data/OlfactoryBulb/TuftedCells/IF04355.CNG.swc TuftedCells 2\n",
      "public_data/OlfactoryBulb/TuftedCells/IF04189.CNG.swc TuftedCells 2\n",
      "public_data/OlfactoryBulb/TuftedCells/IF04204.CNG.swc TuftedCells 2\n",
      "public_data/OlfactoryBulb/TuftedCells/IF04155.CNG.swc TuftedCells 2\n",
      "public_data/OlfactoryBulb/TuftedCells/IF04316.CNG.swc TuftedCells 2\n",
      "public_data/OlfactoryBulb/TuftedCells/IF04206.CNG.swc TuftedCells 2\n"
     ]
    }
   ],
   "source": [
    "# Create three lists to include the neuron objects, cell type labels, and the\n",
    "# morphometric stats calculated from each neuron\n",
    "neurons = []\n",
    "cell_labels = []\n",
    "neuron_quantification = [] \n",
    "\n",
    "# Loop through all SWC files\n",
    "for nname in glob(\"public_data/OlfactoryBulb/**/*.swc\"):\n",
    "    # Identify what group it is from file name\n",
    "    group_name = nname.split('/')[2]\n",
    "    \n",
    "    # Read neuron and save to list\n",
    "    neurons.append( n.from_swc( nname ) )\n",
    "    \n",
    "    # Add cell type label to list of labels'\n",
    "    cell_labels += [ 1 if group_name==\"MitralCells\" else 2 ]\n",
    "    \n",
    "    # Add quatification for each cell\n",
    "    neuron_quantification.append( list(fillStatsDict(neurons[-1]).values()) )\n",
    "    \n",
    "    print( nname, group_name, cell_labels[-1] )"
   ]
  },
  {
   "cell_type": "code",
   "execution_count": 6,
   "metadata": {},
   "outputs": [
    {
     "data": {
      "text/plain": [
       "{'num_tips': 79,\n",
       " 'cell_height': 1087.6,\n",
       " 'cell_width': 1153.08,\n",
       " 'total_branch_nodes': 76,\n",
       " 'avg_thickness': 0.4976320562956566,\n",
       " 'volume': 1328106188.4681597,\n",
       " 'max_branch_order': 15,\n",
       " 'max_segment': 1574.2465900817622,\n",
       " 'max_path_angle': 180.0,\n",
       " 'min_branch_angle': 21.057569935122004,\n",
       " 'avg_branch_angle': 85.05089436377273,\n",
       " 'max_branch_angle': 173.77734849911525,\n",
       " 'max_tortuosity': 0.2904584662651188}"
      ]
     },
     "execution_count": 6,
     "metadata": {},
     "output_type": "execute_result"
    }
   ],
   "source": [
    "fillStatsDict( neurons[-1])"
   ]
  },
  {
   "cell_type": "code",
   "execution_count": 7,
   "metadata": {},
   "outputs": [
    {
     "name": "stdout",
     "output_type": "stream",
     "text": [
      "Explained Variance: [1.00000000e+00 3.81347407e-13]\n"
     ]
    },
    {
     "data": {
      "text/plain": [
       "<Figure size 864x864 with 0 Axes>"
      ]
     },
     "metadata": {},
     "output_type": "display_data"
    },
    {
     "data": {
      "image/png": "[encoded data removed]",
      "text/plain": [
       "<Figure size 864x864 with 1 Axes>"
      ]
     },
     "metadata": {
      "needs_background": "light"
     },
     "output_type": "display_data"
    }
   ],
   "source": [
    "plt.figure(figsize=(12, 12))\n",
    "pca = PCA(n_components=2, svd_solver='full')\n",
    "allDim = pca.fit_transform(neuron_quantification)\n",
    "pca = pca.fit(neuron_quantification)\n",
    "\n",
    "print(\"Explained Variance:\", pca.explained_variance_ratio_)\n",
    "\n",
    "x_ob = allDim[:, 0]\n",
    "y_ob = allDim[:, 1]\n",
    "\n",
    "plt.figure(figsize=(12, 12))\n",
    "plt.subplot(221)\n",
    "plt.scatter(x_ob, y_ob, c=cell_labels)\n",
    "plt.title(\"Olfactory Bulb Data\")\n",
    "\n",
    "plt.show()"
   ]
  },
  {
   "cell_type": "code",
   "execution_count": 8,
   "metadata": {},
   "outputs": [
    {
     "data": {
      "image/png": "[encoded data removed]",
      "text/plain": [
       "<Figure size 720x720 with 1 Axes>"
      ]
     },
     "metadata": {
      "needs_background": "light"
     },
     "output_type": "display_data"
    }
   ],
   "source": [
    "Z = hierarchy.linkage(neuron_quantification, 'single')\n",
    "plt.figure(figsize=(10, 10))\n",
    "plt.title(\"Olfactory Bulb Data Dendrogram\", fontdict = {'fontsize' : 12})\n",
    "plt.ylabel('Neurons', fontdict = {'fontsize' : 10})\n",
    "plt.xlabel('Distance', fontdict = {'fontsize' : 10})\n",
    "\n",
    "# plot the top three levels of the dendrogram\n",
    "hierarchy.set_link_color_palette(['m', 'c', 'y', 'k'])\n",
    "dendrogram(Z, orientation = \"left\", labels=cell_labels, leaf_font_size = 10)\n",
    "plt.show()"
   ]
  },
  {
   "cell_type": "code",
   "execution_count": 9,
   "metadata": {},
   "outputs": [
    {
     "data": {
      "image/png": "[encoded data removed]",
      "text/plain": [
       "<Figure size 216x216 with 1 Axes>"
      ]
     },
     "metadata": {
      "needs_background": "light"
     },
     "output_type": "display_data"
    }
   ],
   "source": [
    "# Make a nice PCA figure\n",
    "fig = plt.figure()\n",
    "fig.set_figheight(3)\n",
    "fig.set_figwidth(3)\n",
    "ax = fig.add_subplot(111)\n",
    "\n",
    "# Plot data from PCA\n",
    "ax.scatter(x_ob, y_ob, c=[ ( (115/256,196/256,132/256) if x==2 else (52/256, 66/256, 123/256) ) for x in cell_labels ], s=15, marker='x' )\n",
    "ax.scatter( [-2.5*10**7,3*10**7], [0,700], s=0)\n",
    "\n",
    "ylim = ax.get_ylim()\n",
    "xlim = ax.get_xlim()\n",
    "\n",
    "for i,_ in enumerate(neurons):\n",
    "    # Find a coordinate to plot neuron subfigures\n",
    "    toplot = [ \n",
    "        (x_ob[i]-xlim[0])/abs(xlim[1]-xlim[0]),\n",
    "        (y_ob[i]-ylim[0])/abs(ylim[1]-ylim[0])\n",
    "    ]\n",
    "    \n",
    "    # Make subfigure to plot each neuron\n",
    "    ax_temp = ax.inset_axes([toplot[0]-.1,toplot[1]-0.1,0.2,0.2])\n",
    "    ax_temp.patch.set_alpha(0)\n",
    "    ax_temp.xaxis.set_ticklabels([])\n",
    "    ax_temp.yaxis.set_ticklabels([])\n",
    "    ax_temp.axis('off')\n",
    "    ax_temp.set_aspect('equal')\n",
    "\n",
    "    # Plot each Neuron\n",
    "    color=[ ( (115/256,196/256,132/256) if x==2 else (52/256, 66/256, 123/256) ) for x in cell_labels ][i]\n",
    "    neurons[i].plot(ax=ax_temp, fig=fig, color=color, axis='x', linewidth=.2)\n",
    "\n",
    "# Label Axes\n",
    "ax.set_xlabel('Principal Component 1')\n",
    "ax.set_ylabel('Principal Component 2')\n",
    "\n",
    "# Change plotting parameters\n",
    "ax.ticklabel_format(style='sci', axis='x', scilimits=(0,0))\n",
    "ax.ticklabel_format(style='sci', axis='y', scilimits=(0,0))\n",
    "fig.subplots_adjust(bottom=0.15,left=0.15)\n",
    "\n",
    "# Save Figure to PDF\n",
    "fig.savefig( 'PanelB.pdf', transparent=True )\n",
    "plt.show()\n"
   ]
  },
  {
   "cell_type": "code",
   "execution_count": 10,
   "metadata": {},
   "outputs": [
    {
     "name": "stdout",
     "output_type": "stream",
     "text": [
      "public_data/BasketPyramidal/PyramidalCells/D110523PYR.CNG.swc PyramidalCells 1\n",
      "public_data/BasketPyramidal/PyramidalCells/B110430PYR.CNG.swc PyramidalCells 1\n",
      "public_data/BasketPyramidal/PyramidalCells/A110111PYR.CNG.swc PyramidalCells 1\n",
      "public_data/BasketPyramidal/PyramidalCells/G110524PYR.CNG.swc PyramidalCells 1\n",
      "public_data/BasketPyramidal/PyramidalCells/I101119PYR.CNG.swc PyramidalCells 1\n",
      "public_data/BasketPyramidal/BasketCells/G100312INT.CNG.swc BasketCells 2\n",
      "public_data/BasketPyramidal/BasketCells/D100308INT.CNG.swc BasketCells 2\n",
      "public_data/BasketPyramidal/BasketCells/J100312INT.CNG.swc BasketCells 2\n"
     ]
    }
   ],
   "source": [
    "# Create three lists to include the neuron objects, cell type labels, and the\n",
    "# morphometric stats calculated from each neuron\n",
    "neurons = []\n",
    "cell_labels = []\n",
    "neuron_quantification = [] \n",
    "\n",
    "# Loop through all SWC files\n",
    "for nname in glob(\"public_data/BasketPyramidal/**/*.swc\"):\n",
    "    # Identify what group it is from file name\n",
    "    group_name = nname.split('/')[2]\n",
    "    \n",
    "    # Read neuron and save to list\n",
    "    neurons.append( n.from_swc( nname ) )\n",
    "    \n",
    "    # Add cell type label to list of labels'\n",
    "    cell_labels += [ 1 if group_name==\"PyramidalCells\" else 2 ]\n",
    "    \n",
    "    # Add quatification for each cell\n",
    "    neuron_quantification.append( list(fillStatsDict(neurons[-1]).values()) )\n",
    "    \n",
    "    print( nname, group_name, cell_labels[-1] )"
   ]
  },
  {
   "cell_type": "code",
   "execution_count": 11,
   "metadata": {},
   "outputs": [
    {
     "name": "stdout",
     "output_type": "stream",
     "text": [
      "Explained Variance: [1.00000000e+00 4.58514921e-11]\n"
     ]
    },
    {
     "data": {
      "text/plain": [
       "<Figure size 864x864 with 0 Axes>"
      ]
     },
     "metadata": {},
     "output_type": "display_data"
    },
    {
     "data": {
      "image/png": "[encoded data removed]",
      "text/plain": [
       "<Figure size 864x864 with 1 Axes>"
      ]
     },
     "metadata": {
      "needs_background": "light"
     },
     "output_type": "display_data"
    }
   ],
   "source": [
    "plt.figure(figsize=(12, 12))\n",
    "pca = PCA(n_components=2, svd_solver='full')\n",
    "allDim = pca.fit_transform(neuron_quantification)\n",
    "pca = pca.fit(neuron_quantification)\n",
    "\n",
    "print(\"Explained Variance:\", pca.explained_variance_ratio_)\n",
    "\n",
    "x_bp = allDim[:, 0]\n",
    "y_bp = allDim[:, 1]\n",
    "\n",
    "plt.figure(figsize=(12, 12))\n",
    "plt.subplot(221)\n",
    "plt.scatter(x_bp, y_bp, c=cell_labels)\n",
    "plt.title(\"Basket and Pyramidal Cell Data\")\n",
    "\n",
    "plt.show()"
   ]
  },
  {
   "cell_type": "code",
   "execution_count": 12,
   "metadata": {},
   "outputs": [
    {
     "data": {
      "image/png": "[encoded data removed]",
      "text/plain": [
       "<Figure size 216x216 with 1 Axes>"
      ]
     },
     "metadata": {
      "needs_background": "light"
     },
     "output_type": "display_data"
    }
   ],
   "source": [
    "# Make a nice PCA figure\n",
    "fig = plt.figure()\n",
    "fig.set_figheight(3)\n",
    "fig.set_figwidth(3)\n",
    "ax = fig.add_subplot(111)\n",
    "\n",
    "# Plot data from PCA\n",
    "ax.scatter(x_bp, y_bp, c=[ ( (115/256,196/256,132/256) if x==1 else (52/256, 66/256, 123/256) ) for x in cell_labels ], s=15, marker='x' )\n",
    "#ax.scatter( [-2.5*10**7,3*10**7], [0,700], s=0)\n",
    "\n",
    "ylim = ax.get_ylim()\n",
    "xlim = ax.get_xlim()\n",
    "\n",
    "for i,_ in enumerate(neurons):\n",
    "    # Find a coordinate to plot neuron subfigures\n",
    "    toplot = [ \n",
    "        (x_bp[i]-xlim[0])/abs(xlim[1]-xlim[0]),\n",
    "        (y_bp[i]-ylim[0])/abs(ylim[1]-ylim[0])\n",
    "    ]\n",
    "    \n",
    "    # Make subfigure to plot each neuron\n",
    "    ax_temp = ax.inset_axes([toplot[0]-.1,toplot[1]-0.1,0.2,0.2])\n",
    "    ax_temp.patch.set_alpha(0)\n",
    "    ax_temp.xaxis.set_ticklabels([])\n",
    "    ax_temp.yaxis.set_ticklabels([])\n",
    "    ax_temp.axis('off')\n",
    "    ax_temp.set_aspect('equal')\n",
    "\n",
    "    # Plot each Neuron\n",
    "    color=[ ( (115/256,196/256,132/256) if x==1 else (52/256, 66/256, 123/256) ) for x in cell_labels ][i]\n",
    "    neurons[i].plot(ax=ax_temp, fig=fig, color=color, axis='z', linewidth=.2)\n",
    "\n",
    "# Label Axes\n",
    "ax.set_xlabel('Principal Component 1')\n",
    "ax.set_ylabel('Principal Component 2')\n",
    "\n",
    "# Change plotting parameters\n",
    "plt.ticklabel_format(style='sci', axis='x', scilimits=(0,0))\n",
    "plt.ticklabel_format(style='sci', axis='y', scilimits=(0,0))\n",
    "plt.gcf().subplots_adjust(bottom=0.15,left=0.15)\n",
    "\n",
    "# Save Figure to PDF\n",
    "plt.savefig( 'PanelA.pdf', transparent=True )"
   ]
  },
  {
   "cell_type": "code",
   "execution_count": null,
   "metadata": {},
   "outputs": [],
   "source": []
  }
 ],
 "metadata": {
  "kernelspec": {
   "display_name": "Python 3",
   "language": "python",
   "name": "python3"
  },
  "language_info": {
   "codemirror_mode": {
    "name": "ipython",
    "version": 3
   },
   "file_extension": ".py",
   "mimetype": "text/x-python",
   "name": "python",
   "nbconvert_exporter": "python",
   "pygments_lexer": "ipython3",
   "version": "3.8.8"
  }
 },
 "nbformat": 4,
 "nbformat_minor": 4
}
