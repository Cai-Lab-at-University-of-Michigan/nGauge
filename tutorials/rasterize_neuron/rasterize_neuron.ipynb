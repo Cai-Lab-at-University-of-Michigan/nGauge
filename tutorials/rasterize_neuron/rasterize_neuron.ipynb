{
 "cells": [
  {
   "cell_type": "code",
   "execution_count": 1,
   "id": "b0388149-3a8d-498f-97b6-16360ff288e3",
   "metadata": {},
   "outputs": [],
   "source": [
    "import tqdm, sys\n",
    "# tqdm is optional for displaying a progressbar\n",
    "\n",
    "import matplotlib.pyplot as plt\n",
    "from mpl_toolkits import mplot3d\n",
    "import numpy as np\n",
    "from scipy.spatial import ConvexHull"
   ]
  },
  {
   "cell_type": "code",
   "execution_count": 2,
   "id": "8ff9cce4-42e6-4464-af40-b7cea009ce1a",
   "metadata": {},
   "outputs": [],
   "source": [
    "# Define a function for finding if a point is inside the hull\n",
    "def point_in_hull(point, hull, tolerance=1e-6):\n",
    "    return np.all( np.dot( hull.equations[:,:-1], point ) + hull.equations[:,-1] <= tolerance )"
   ]
  },
  {
   "cell_type": "code",
   "execution_count": 3,
   "id": "45a9e762-c87c-42ac-b781-5c57a96b28b3",
   "metadata": {},
   "outputs": [
    {
     "data": {
      "text/plain": [
       "'0.1.5'"
      ]
     },
     "execution_count": 3,
     "metadata": {},
     "output_type": "execute_result"
    }
   ],
   "source": [
    "import ngauge\n",
    "ngauge.__version__"
   ]
  },
  {
   "cell_type": "code",
   "execution_count": 4,
   "id": "5cc14095-02b3-4164-ab65-bd5c3d076301",
   "metadata": {},
   "outputs": [],
   "source": [
    "# Load an example file\n",
    "n = ngauge.Neuron.from_swc('../basic_usage/ye_swc/20181003_3L_ExM_TRH-5FP_20x_tile1-4_Neuron-11_stdSWC.swc')"
   ]
  },
  {
   "cell_type": "code",
   "execution_count": 5,
   "id": "94f380e6-ade1-405e-9e88-bfbd4c33b850",
   "metadata": {},
   "outputs": [
    {
     "data": {
      "image/png": "[encoded data removed]",
      "text/plain": [
       "<Figure size 432x288 with 1 Axes>"
      ]
     },
     "metadata": {
      "needs_background": "light"
     },
     "output_type": "display_data"
    }
   ],
   "source": [
    "# Plot the neuron\n",
    "p = n.plot()"
   ]
  },
  {
   "cell_type": "code",
   "execution_count": 6,
   "id": "14fec660-006a-4d76-9ff0-bbe9c13e56cd",
   "metadata": {},
   "outputs": [
    {
     "name": "stdout",
     "output_type": "stream",
     "text": [
      "((552.62509, 820.23328), (348.5789, 503.23296), (264.0, 466.5))\n",
      "[267.60819000000004, 154.65406000000002, 202.5]\n"
     ]
    }
   ],
   "source": [
    "# Find the bounding box, just to plot a subvolume\n",
    "bounds = (\n",
    "    ( min( x.x for x in n.iter_all_points() ), max( x.x for x in n.iter_all_points() ) ),\n",
    "    ( min( x.y for x in n.iter_all_points() ), max( x.y for x in n.iter_all_points() ) ),\n",
    "    ( min( x.z for x in n.iter_all_points() ), max( x.z for x in n.iter_all_points() ) )\n",
    ")\n",
    "print( bounds )\n",
    "\n",
    "print( [x[1]-x[0] for x in bounds] )"
   ]
  },
  {
   "cell_type": "code",
   "execution_count": 7,
   "id": "f6bc019c-bc62-41fd-9a0e-05fdd239bc8b",
   "metadata": {},
   "outputs": [
    {
     "data": {
      "text/plain": [
       "(8357, 3)"
      ]
     },
     "execution_count": 7,
     "metadata": {},
     "output_type": "execute_result"
    }
   ],
   "source": [
    "# Export the points of the neuron into a numpy array\n",
    "points = np.array( [ (x.x, x.y, x.z) for x in n.iter_all_points() ] )\n",
    "points.shape"
   ]
  },
  {
   "cell_type": "code",
   "execution_count": 8,
   "id": "0746da7e-ed66-4343-a6bf-8c17890c398d",
   "metadata": {},
   "outputs": [],
   "source": [
    "# Use convexhull to calculate the hull\n",
    "hull = ConvexHull(points)"
   ]
  },
  {
   "cell_type": "code",
   "execution_count": 9,
   "id": "e29df480-e16b-48ba-9806-c7e9652adca8",
   "metadata": {},
   "outputs": [
    {
     "name": "stderr",
     "output_type": "stream",
     "text": [
      "100%|██████████| 300/300 [02:07<00:00,  2.34it/s]\n"
     ]
    }
   ],
   "source": [
    "# Create a empty numpy array\n",
    "out = np.zeros( (300,200,200), dtype=np.uint8)\n",
    "\n",
    "# Loop through all points, offset by the bounding box values\n",
    "for i in tqdm.tqdm( range(out.shape[0]) ):\n",
    "    for j in range(out.shape[1]):\n",
    "        for k in range(out.shape[2]):\n",
    "            if point_in_hull( [i+550,j+350,k+250], hull ):\n",
    "                out[i][j][k] = 1"
   ]
  },
  {
   "cell_type": "code",
   "execution_count": 10,
   "id": "effc2802-5c70-476d-ba0a-f06912a6b097",
   "metadata": {},
   "outputs": [],
   "source": [
    "import tifffile\n",
    "\n",
    "# Write the file out\n",
    "tifffile.imwrite( 'output.tif', out )"
   ]
  }
 ],
 "metadata": {
  "kernelspec": {
   "display_name": "Python 3.8.8 64-bit ('base': conda)",
   "language": "python",
   "name": "python388jvsc74a57bd0760937fe51b442cde0ebf52028cd9164cb9f4a3570b9e184b4a794c171277159"
  },
  "language_info": {
   "codemirror_mode": {
    "name": "ipython",
    "version": 3
   },
   "file_extension": ".py",
   "mimetype": "text/x-python",
   "name": "python",
   "nbconvert_exporter": "python",
   "pygments_lexer": "ipython3",
   "version": "3.8.8"
  }
 },
 "nbformat": 4,
 "nbformat_minor": 5
}
